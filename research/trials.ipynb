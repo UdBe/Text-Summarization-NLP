{
 "cells": [],
 "metadata": {
  "kernelspec": {
   "display_name": "textsummarizer",
   "language": "python",
   "name": "python3"
  },
  "language_info": {
   "codemirror_mode": {
    "name": "ipython",
    "version": 3
   },
   "file_extension": ".py",
   "mimetype": "text/x-python",
   "name": "python",
   "nbconvert_exporter": "python",
   "pygments_lexer": "ipython3",
   "version": "3.8.17"
  },
  "orig_nbformat": 4,
  "vscode": {
   "interpreter": {
    "hash": "3e328a7385128f83a5f6c0c0b6bbf2a9279d60f1290bde4dae521993c8c00ef4"
   }
  }
 },
 "nbformat": 4,
 "nbformat_minor": 2
}
